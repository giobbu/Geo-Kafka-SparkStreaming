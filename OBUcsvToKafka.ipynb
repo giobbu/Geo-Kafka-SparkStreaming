{
 "cells": [
  {
   "cell_type": "markdown",
   "metadata": {},
   "source": [
    "Kafka is used to send messages containing Viapass data\n",
    "\n",
    "You need to have Kafka and Zookeeper servers running to execute this notebook. If you use the Docker container, these servers should already be running. Otherwise, you may start them on your machine with\n",
    "\n",
    "```\n",
    "nohup $KAFKA_PATH/bin/zookeeper-server-start.sh $KAFKA_PATH/config/zookeeper.properties  > $HOME/zookeeper.log 2>&1 &\n",
    "nohup $KAFKA_PATH/bin/kafka-server-start.sh $KAFKA_PATH/config/server.properties > $HOME/kafka.log 2>&1 &\n",
    "```\n",
    "\n",
    "where KAFKA_PATH points to the folder containing Kafka. See https://kafka.apache.org/quickstart for how to install Kafka on your machine."
   ]
  },
  {
   "cell_type": "code",
   "execution_count": 1,
   "metadata": {},
   "outputs": [],
   "source": [
    "import requests\n",
    "import time\n",
    "import json\n",
    "import os   \n",
    "import logging\n",
    "import pandas as pd\n",
    "import numpy as np\n",
    "from datetime import datetime\n",
    "from datetime import timedelta\n",
    "import geopandas as gpd\n",
    "from geopandas.tools import sjoin\n",
    "from shapely.geometry import shape\n",
    "from shapely.geometry import Point, Polygon\n",
    "from fiona.crs import from_epsg\n",
    "from kafka import KafkaProducer\n",
    "\n",
    "\n"
   ]
  },
  {
   "cell_type": "markdown",
   "metadata": {},
   "source": [
    "## Retrieve data from Viapass CSV file"
   ]
  },
  {
   "cell_type": "code",
   "execution_count": 2,
   "metadata": {},
   "outputs": [
    {
     "data": {
      "text/html": [
       "<div>\n",
       "<style scoped>\n",
       "    .dataframe tbody tr th:only-of-type {\n",
       "        vertical-align: middle;\n",
       "    }\n",
       "\n",
       "    .dataframe tbody tr th {\n",
       "        vertical-align: top;\n",
       "    }\n",
       "\n",
       "    .dataframe thead th {\n",
       "        text-align: right;\n",
       "    }\n",
       "</style>\n",
       "<table border=\"1\" class=\"dataframe\">\n",
       "  <thead>\n",
       "    <tr style=\"text-align: right;\">\n",
       "      <th></th>\n",
       "      <th>unique_id</th>\n",
       "      <th>truck_id</th>\n",
       "      <th>longitude</th>\n",
       "      <th>latitude</th>\n",
       "      <th>datetime</th>\n",
       "      <th>velocity</th>\n",
       "      <th>direction</th>\n",
       "      <th>countrycode</th>\n",
       "      <th>eurovalue</th>\n",
       "      <th>mtm</th>\n",
       "      <th>date</th>\n",
       "      <th>time</th>\n",
       "      <th>retrieved_time</th>\n",
       "      <th>geometry</th>\n",
       "      <th>index_commune</th>\n",
       "      <th>region</th>\n",
       "      <th>commune</th>\n",
       "    </tr>\n",
       "  </thead>\n",
       "  <tbody>\n",
       "    <tr>\n",
       "      <th>69105</th>\n",
       "      <td>2513665447_2018-09-23T02:58:22</td>\n",
       "      <td>2513665447</td>\n",
       "      <td>4.281629</td>\n",
       "      <td>50.82138</td>\n",
       "      <td>2018-09-23 02:58:22.000000</td>\n",
       "      <td>84</td>\n",
       "      <td>147</td>\n",
       "      <td>BE</td>\n",
       "      <td>5</td>\n",
       "      <td>1199</td>\n",
       "      <td>2018-09-23</td>\n",
       "      <td>02:58:22</td>\n",
       "      <td>2018-09-23 03:03:14.521033</td>\n",
       "      <td>POINT (4.281629 50.82138)</td>\n",
       "      <td>11.0</td>\n",
       "      <td>BCR</td>\n",
       "      <td>Anderlecht</td>\n",
       "    </tr>\n",
       "    <tr>\n",
       "      <th>69106</th>\n",
       "      <td>2513665447_2018-09-23T02:58:22</td>\n",
       "      <td>2513665447</td>\n",
       "      <td>4.281629</td>\n",
       "      <td>50.82138</td>\n",
       "      <td>2018-09-23 02:58:22.000000</td>\n",
       "      <td>84</td>\n",
       "      <td>147</td>\n",
       "      <td>BE</td>\n",
       "      <td>5</td>\n",
       "      <td>1199</td>\n",
       "      <td>2018-09-23</td>\n",
       "      <td>02:58:22</td>\n",
       "      <td>2018-09-23 03:03:35.432470</td>\n",
       "      <td>POINT (4.281629 50.82138)</td>\n",
       "      <td>11.0</td>\n",
       "      <td>BCR</td>\n",
       "      <td>Anderlecht</td>\n",
       "    </tr>\n",
       "    <tr>\n",
       "      <th>69107</th>\n",
       "      <td>2513665447_2018-09-23T02:58:22</td>\n",
       "      <td>2513665447</td>\n",
       "      <td>4.281629</td>\n",
       "      <td>50.82138</td>\n",
       "      <td>2018-09-23 02:58:22.000000</td>\n",
       "      <td>84</td>\n",
       "      <td>147</td>\n",
       "      <td>BE</td>\n",
       "      <td>5</td>\n",
       "      <td>1199</td>\n",
       "      <td>2018-09-23</td>\n",
       "      <td>02:58:22</td>\n",
       "      <td>2018-09-23 03:03:56.452375</td>\n",
       "      <td>POINT (4.281629 50.82138)</td>\n",
       "      <td>11.0</td>\n",
       "      <td>BCR</td>\n",
       "      <td>Anderlecht</td>\n",
       "    </tr>\n",
       "    <tr>\n",
       "      <th>69108</th>\n",
       "      <td>2513665447_2018-09-23T02:58:22</td>\n",
       "      <td>2513665447</td>\n",
       "      <td>4.281629</td>\n",
       "      <td>50.82138</td>\n",
       "      <td>2018-09-23 02:58:22.000000</td>\n",
       "      <td>84</td>\n",
       "      <td>147</td>\n",
       "      <td>BE</td>\n",
       "      <td>5</td>\n",
       "      <td>1199</td>\n",
       "      <td>2018-09-23</td>\n",
       "      <td>02:58:22</td>\n",
       "      <td>2018-09-23 03:04:17.879058</td>\n",
       "      <td>POINT (4.281629 50.82138)</td>\n",
       "      <td>11.0</td>\n",
       "      <td>BCR</td>\n",
       "      <td>Anderlecht</td>\n",
       "    </tr>\n",
       "    <tr>\n",
       "      <th>69109</th>\n",
       "      <td>2513665447_2018-09-23T02:58:22</td>\n",
       "      <td>2513665447</td>\n",
       "      <td>4.281629</td>\n",
       "      <td>50.82138</td>\n",
       "      <td>2018-09-23 02:58:22.000000</td>\n",
       "      <td>84</td>\n",
       "      <td>147</td>\n",
       "      <td>BE</td>\n",
       "      <td>5</td>\n",
       "      <td>1199</td>\n",
       "      <td>2018-09-23</td>\n",
       "      <td>02:58:22</td>\n",
       "      <td>2018-09-23 03:04:38.813398</td>\n",
       "      <td>POINT (4.281629 50.82138)</td>\n",
       "      <td>11.0</td>\n",
       "      <td>BCR</td>\n",
       "      <td>Anderlecht</td>\n",
       "    </tr>\n",
       "  </tbody>\n",
       "</table>\n",
       "</div>"
      ],
      "text/plain": [
       "                            unique_id    truck_id  longitude  latitude  \\\n",
       "69105  2513665447_2018-09-23T02:58:22  2513665447   4.281629  50.82138   \n",
       "69106  2513665447_2018-09-23T02:58:22  2513665447   4.281629  50.82138   \n",
       "69107  2513665447_2018-09-23T02:58:22  2513665447   4.281629  50.82138   \n",
       "69108  2513665447_2018-09-23T02:58:22  2513665447   4.281629  50.82138   \n",
       "69109  2513665447_2018-09-23T02:58:22  2513665447   4.281629  50.82138   \n",
       "\n",
       "                         datetime  velocity  direction countrycode  eurovalue  \\\n",
       "69105  2018-09-23 02:58:22.000000        84        147          BE          5   \n",
       "69106  2018-09-23 02:58:22.000000        84        147          BE          5   \n",
       "69107  2018-09-23 02:58:22.000000        84        147          BE          5   \n",
       "69108  2018-09-23 02:58:22.000000        84        147          BE          5   \n",
       "69109  2018-09-23 02:58:22.000000        84        147          BE          5   \n",
       "\n",
       "        mtm        date      time              retrieved_time  \\\n",
       "69105  1199  2018-09-23  02:58:22  2018-09-23 03:03:14.521033   \n",
       "69106  1199  2018-09-23  02:58:22  2018-09-23 03:03:35.432470   \n",
       "69107  1199  2018-09-23  02:58:22  2018-09-23 03:03:56.452375   \n",
       "69108  1199  2018-09-23  02:58:22  2018-09-23 03:04:17.879058   \n",
       "69109  1199  2018-09-23  02:58:22  2018-09-23 03:04:38.813398   \n",
       "\n",
       "                        geometry  index_commune region     commune  \n",
       "69105  POINT (4.281629 50.82138)           11.0    BCR  Anderlecht  \n",
       "69106  POINT (4.281629 50.82138)           11.0    BCR  Anderlecht  \n",
       "69107  POINT (4.281629 50.82138)           11.0    BCR  Anderlecht  \n",
       "69108  POINT (4.281629 50.82138)           11.0    BCR  Anderlecht  \n",
       "69109  POINT (4.281629 50.82138)           11.0    BCR  Anderlecht  "
      ]
     },
     "execution_count": 2,
     "metadata": {},
     "output_type": "execute_result"
    }
   ],
   "source": [
    "obu_columns=['unique_id','truck_id','longitude','latitude',\\\n",
    "             'datetime','velocity','direction','countrycode','eurovalue','mtm',\\\n",
    "            'date','time','retrieved_time','geometry','index_commune','region','commune','index_right']\n",
    "\n",
    "locations_df =pd.read_csv(\"data_week.csv\",names=obu_columns).drop(['index_right'], axis = 1) \n",
    "\n",
    "locations_df = locations_df.sort_values(by=['retrieved_time'])\n",
    "\n",
    "locations_df.head()"
   ]
  },
  {
   "cell_type": "code",
   "execution_count": 3,
   "metadata": {},
   "outputs": [
    {
     "data": {
      "text/plain": [
       "array([datetime.date(2018, 9, 23), datetime.date(2018, 9, 24),\n",
       "       datetime.date(2018, 9, 25), datetime.date(2018, 9, 26),\n",
       "       datetime.date(2018, 9, 27), datetime.date(2018, 9, 28),\n",
       "       datetime.date(2018, 9, 29), datetime.date(2018, 9, 30),\n",
       "       datetime.date(2018, 10, 1), datetime.date(2018, 10, 2),\n",
       "       datetime.date(2018, 10, 3), datetime.date(2018, 10, 4),\n",
       "       datetime.date(2018, 10, 5), datetime.date(2018, 10, 6),\n",
       "       datetime.date(2018, 10, 7), datetime.date(2018, 10, 8),\n",
       "       datetime.date(2018, 10, 9), datetime.date(2018, 10, 10),\n",
       "       datetime.date(2018, 10, 11), datetime.date(2018, 10, 12),\n",
       "       datetime.date(2018, 10, 13), datetime.date(2018, 10, 14),\n",
       "       datetime.date(2018, 10, 15), datetime.date(2018, 10, 16),\n",
       "       datetime.date(2018, 10, 17), datetime.date(2018, 10, 18),\n",
       "       datetime.date(2018, 10, 19), datetime.date(2018, 10, 20),\n",
       "       datetime.date(2018, 10, 21), datetime.date(2018, 10, 22)],\n",
       "      dtype=object)"
      ]
     },
     "execution_count": 3,
     "metadata": {},
     "output_type": "execute_result"
    }
   ],
   "source": [
    "#Needed to make time comparisons\n",
    "locations_df['retrieved_time']=pd.to_datetime(locations_df['retrieved_time'])\n",
    "locations_df['datetime']=pd.to_datetime(locations_df['datetime'])\n",
    "locations_df['datetime'].dt.date.unique()"
   ]
  },
  {
   "cell_type": "code",
   "execution_count": 4,
   "metadata": {},
   "outputs": [],
   "source": [
    "locations_df = locations_df.sort_values(by='datetime', ascending=False)\n"
   ]
  },
  {
   "cell_type": "code",
   "execution_count": 5,
   "metadata": {},
   "outputs": [],
   "source": [
    "# KAFKA PRODUCER\n",
    "\n",
    "producer = KafkaProducer(bootstrap_servers='localhost:9092')\n",
    "retrieved_time_start=locations_df.retrieved_time.min()+timedelta(minutes = 2)\n",
    "street_segments=gpd.read_file('1000m_three_streets.geojson')"
   ]
  },
  {
   "cell_type": "code",
   "execution_count": 6,
   "metadata": {},
   "outputs": [
    {
     "data": {
      "text/html": [
       "<div>\n",
       "<style scoped>\n",
       "    .dataframe tbody tr th:only-of-type {\n",
       "        vertical-align: middle;\n",
       "    }\n",
       "\n",
       "    .dataframe tbody tr th {\n",
       "        vertical-align: top;\n",
       "    }\n",
       "\n",
       "    .dataframe thead th {\n",
       "        text-align: right;\n",
       "    }\n",
       "</style>\n",
       "<table border=\"1\" class=\"dataframe\">\n",
       "  <thead>\n",
       "    <tr style=\"text-align: right;\">\n",
       "      <th></th>\n",
       "      <th>geometry</th>\n",
       "    </tr>\n",
       "  </thead>\n",
       "  <tbody>\n",
       "    <tr>\n",
       "      <th>0</th>\n",
       "      <td>POLYGON ((4.279965979374574 50.82704383830234,...</td>\n",
       "    </tr>\n",
       "    <tr>\n",
       "      <th>1</th>\n",
       "      <td>POLYGON ((4.284120643446468 50.81983027843969,...</td>\n",
       "    </tr>\n",
       "    <tr>\n",
       "      <th>2</th>\n",
       "      <td>POLYGON ((4.272622340160408 50.81986923677554,...</td>\n",
       "    </tr>\n",
       "  </tbody>\n",
       "</table>\n",
       "</div>"
      ],
      "text/plain": [
       "                                            geometry\n",
       "0  POLYGON ((4.279965979374574 50.82704383830234,...\n",
       "1  POLYGON ((4.284120643446468 50.81983027843969,...\n",
       "2  POLYGON ((4.272622340160408 50.81986923677554,..."
      ]
     },
     "execution_count": 6,
     "metadata": {},
     "output_type": "execute_result"
    }
   ],
   "source": [
    "# three streets \n",
    "street_segments_one = gpd.GeoDataFrame(street_segments.iloc[2]).T\n",
    "street_segments"
   ]
  },
  {
   "cell_type": "markdown",
   "metadata": {},
   "source": [
    "## Connection to Kafka"
   ]
  },
  {
   "cell_type": "code",
   "execution_count": 12,
   "metadata": {
    "scrolled": true
   },
   "outputs": [
    {
     "name": "stdout",
     "output_type": "stream",
     "text": [
      "Batch Interavl 60\n",
      "\n",
      "Received time: 2018-09-23 03:03:14.521033\n",
      "Number of records: 22\n",
      "(22, 18)\n",
      "\n",
      "Delay: 0 day,  0 hour, 7 minutes, 15 seconds\n",
      "\n",
      "Time to preprocess: 0.07775163650512695\n",
      "['1150616939_2018-09-23T03:35:50', '1150616939', '4.281588', '50.82142', '2018-09-23 03:35:50.000000', '78', '147', 'BE', '5', '6000', '2018-09-23', '03:35:50', '2018-09-23 03:41:01.307435', 'POINT (4.281588 50.82142)', '11.0', 'BCR', 'Anderlecht', '2', '2018-09-23 04:03:14.521033']\n",
      "['1150616939_2018-09-23T03:35:50', '1150616939', '4.281588', '50.82142', '2018-09-23 03:35:50.000000', '78', '147', 'BE', '5', '6000', '2018-09-23', '03:35:50', '2018-09-23 03:40:40.362433', 'POINT (4.281588 50.82142)', '11.0', 'BCR', 'Anderlecht', '2', '2018-09-23 04:03:14.521033']\n",
      "['1150616939_2018-09-23T03:35:50', '1150616939', '4.281588', '50.82142', '2018-09-23 03:35:50.000000', '78', '147', 'BE', '5', '6000', '2018-09-23', '03:35:50', '2018-09-23 03:40:19.603262', 'POINT (4.281588 50.82142)', '11.0', 'BCR', 'Anderlecht', '2', '2018-09-23 04:03:14.521033']\n",
      "['1150616939_2018-09-23T03:35:50', '1150616939', '4.281588', '50.82142', '2018-09-23 03:35:50.000000', '78', '147', 'BE', '5', '6000', '2018-09-23', '03:35:50', '2018-09-23 03:41:22.381181', 'POINT (4.281588 50.82142)', '11.0', 'BCR', 'Anderlecht', '2', '2018-09-23 04:03:14.521033']\n",
      "['1150616939_2018-09-23T03:35:50', '1150616939', '4.281588', '50.82142', '2018-09-23 03:35:50.000000', '78', '147', 'BE', '5', '6000', '2018-09-23', '03:35:50', '2018-09-23 03:41:43.287142', 'POINT (4.281588 50.82142)', '11.0', 'BCR', 'Anderlecht', '2', '2018-09-23 04:03:14.521033']\n",
      "['2247819752_2018-09-23T03:13:26', '2247819752', '4.288275', '50.81527', '2018-09-23 03:13:26.000000', '87', '141', 'BE', '5', '6000', '2018-09-23', '03:13:26', '2018-09-23 03:16:31.270357', 'POINT (4.288275 50.81527)', '11.0', 'BCR', 'Anderlecht', '2', '2018-09-23 04:03:14.521033']\n",
      "['2247819752_2018-09-23T03:13:26', '2247819752', '4.288275', '50.81527', '2018-09-23 03:13:26.000000', '87', '141', 'BE', '5', '6000', '2018-09-23', '03:13:26', '2018-09-23 03:15:21.106156', 'POINT (4.288275 50.81527)', '11.0', 'BCR', 'Anderlecht', '2', '2018-09-23 04:03:14.521033']\n",
      "['2247819752_2018-09-23T03:13:26', '2247819752', '4.288275', '50.81527', '2018-09-23 03:13:26.000000', '87', '141', 'BE', '5', '6000', '2018-09-23', '03:13:26', '2018-09-23 03:15:55.739079', 'POINT (4.288275 50.81527)', '11.0', 'BCR', 'Anderlecht', '2', '2018-09-23 04:03:14.521033']\n",
      "['2247819752_2018-09-23T03:13:26', '2247819752', '4.288275', '50.81527', '2018-09-23 03:13:26.000000', '87', '141', 'BE', '5', '6000', '2018-09-23', '03:13:26', '2018-09-23 03:16:13.834271', 'POINT (4.288275 50.81527)', '11.0', 'BCR', 'Anderlecht', '2', '2018-09-23 04:03:14.521033']\n",
      "['2247819752_2018-09-23T03:13:26', '2247819752', '4.288275', '50.81527', '2018-09-23 03:13:26.000000', '87', '141', 'BE', '5', '6000', '2018-09-23', '03:13:26', '2018-09-23 03:15:38.507916', 'POINT (4.288275 50.81527)', '11.0', 'BCR', 'Anderlecht', '2', '2018-09-23 04:03:14.521033']\n",
      "['2247819752_2018-09-23T03:13:26', '2247819752', '4.288275', '50.81527', '2018-09-23 03:13:26.000000', '87', '141', 'BE', '5', '6000', '2018-09-23', '03:13:26', '2018-09-23 03:16:48.353692', 'POINT (4.288275 50.81527)', '11.0', 'BCR', 'Anderlecht', '2', '2018-09-23 04:03:14.521033']\n",
      "['2247819752_2018-09-23T03:13:26', '2247819752', '4.288275', '50.81527', '2018-09-23 03:13:26.000000', '87', '141', 'BE', '5', '6000', '2018-09-23', '03:13:26', '2018-09-23 03:17:05.613532', 'POINT (4.288275 50.81527)', '11.0', 'BCR', 'Anderlecht', '2', '2018-09-23 04:03:14.521033']\n",
      "['2247819752_2018-09-23T03:13:26', '2247819752', '4.288275', '50.81527', '2018-09-23 03:13:26.000000', '87', '141', 'BE', '5', '6000', '2018-09-23', '03:13:26', '2018-09-23 03:17:22.778046', 'POINT (4.288275 50.81527)', '11.0', 'BCR', 'Anderlecht', '2', '2018-09-23 04:03:14.521033']\n",
      "['2247819752_2018-09-23T03:13:26', '2247819752', '4.288275', '50.81527', '2018-09-23 03:13:26.000000', '87', '141', 'BE', '5', '6000', '2018-09-23', '03:13:26', '2018-09-23 03:17:39.890068', 'POINT (4.288275 50.81527)', '11.0', 'BCR', 'Anderlecht', '2', '2018-09-23 04:03:14.521033']\n",
      "['2513665447_2018-09-23T02:58:22', '2513665447', '4.281629', '50.82138', '2018-09-23 02:58:22.000000', '84', '147', 'BE', '5', '1199', '2018-09-23', '02:58:22', '2018-09-23 03:03:35.432470', 'POINT (4.281629 50.82138)', '11.0', 'BCR', 'Anderlecht', '2', '2018-09-23 04:03:14.521033']\n",
      "['2513665447_2018-09-23T02:58:22', '2513665447', '4.281629', '50.82138', '2018-09-23 02:58:22.000000', '84', '147', 'BE', '5', '1199', '2018-09-23', '02:58:22', '2018-09-23 03:05:37.820652', 'POINT (4.281629 50.82138)', '11.0', 'BCR', 'Anderlecht', '2', '2018-09-23 04:03:14.521033']\n",
      "['2513665447_2018-09-23T02:58:22', '2513665447', '4.281629', '50.82138', '2018-09-23 02:58:22.000000', '84', '147', 'BE', '5', '1199', '2018-09-23', '02:58:22', '2018-09-23 03:05:20.469191', 'POINT (4.281629 50.82138)', '11.0', 'BCR', 'Anderlecht', '2', '2018-09-23 04:03:14.521033']\n",
      "['2513665447_2018-09-23T02:58:22', '2513665447', '4.281629', '50.82138', '2018-09-23 02:58:22.000000', '84', '147', 'BE', '5', '1199', '2018-09-23', '02:58:22', '2018-09-23 03:04:59.540885', 'POINT (4.281629 50.82138)', '11.0', 'BCR', 'Anderlecht', '2', '2018-09-23 04:03:14.521033']\n",
      "['2513665447_2018-09-23T02:58:22', '2513665447', '4.281629', '50.82138', '2018-09-23 02:58:22.000000', '84', '147', 'BE', '5', '1199', '2018-09-23', '02:58:22', '2018-09-23 03:04:38.813398', 'POINT (4.281629 50.82138)', '11.0', 'BCR', 'Anderlecht', '2', '2018-09-23 04:03:14.521033']\n",
      "['2513665447_2018-09-23T02:58:22', '2513665447', '4.281629', '50.82138', '2018-09-23 02:58:22.000000', '84', '147', 'BE', '5', '1199', '2018-09-23', '02:58:22', '2018-09-23 03:04:17.879058', 'POINT (4.281629 50.82138)', '11.0', 'BCR', 'Anderlecht', '2', '2018-09-23 04:03:14.521033']\n",
      "['2513665447_2018-09-23T02:58:22', '2513665447', '4.281629', '50.82138', '2018-09-23 02:58:22.000000', '84', '147', 'BE', '5', '1199', '2018-09-23', '02:58:22', '2018-09-23 03:03:56.452375', 'POINT (4.281629 50.82138)', '11.0', 'BCR', 'Anderlecht', '2', '2018-09-23 04:03:14.521033']\n",
      "['2513665447_2018-09-23T02:58:22', '2513665447', '4.281629', '50.82138', '2018-09-23 02:58:22.000000', '84', '147', 'BE', '5', '1199', '2018-09-23', '02:58:22', '2018-09-23 03:03:14.521033', 'POINT (4.281629 50.82138)', '11.0', 'BCR', 'Anderlecht', '2', '2018-09-23 04:03:14.521033']\n",
      "Time to send to Kafka: 0.0432584285736084\n",
      "Time for preprocessing and seding was: 0.12119555473327637; Waiting 9.878804445266724 seconds to be synchronized with the receving side\n"
     ]
    },
    {
     "name": "stderr",
     "output_type": "stream",
     "text": [
      "/home/guest/anaconda3/lib/python3.7/site-packages/ipykernel_launcher.py:31: SettingWithCopyWarning: \n",
      "A value is trying to be set on a copy of a slice from a DataFrame.\n",
      "Try using .loc[row_indexer,col_indexer] = value instead\n",
      "\n",
      "See the caveats in the documentation: http://pandas.pydata.org/pandas-docs/stable/indexing.html#indexing-view-versus-copy\n"
     ]
    },
    {
     "name": "stdout",
     "output_type": "stream",
     "text": [
      "\n",
      "Received time: 2018-09-23 04:03:14.521033\n",
      "Number of records: 24\n",
      "(24, 18)\n",
      "\n",
      "Delay: 0 day,  0 hour, 6 minutes, 54 seconds\n",
      "\n",
      "Time to preprocess: 0.06720447540283203\n",
      "['2838289129_2018-09-23T04:21:05', '2838289129', '4.282895', '50.820370000000004', '2018-09-23 04:21:05.000000', '80', '147', 'BE', '6', '1900', '2018-09-23', '04:21:05', '2018-09-23 04:26:55.228674', 'POINT (4.282895 50.82037)', '11.0', 'BCR', 'Anderlecht', '2', '2018-09-23 05:03:14.521033']\n",
      "['2838289129_2018-09-23T04:21:05', '2838289129', '4.282895', '50.820370000000004', '2018-09-23 04:21:05.000000', '80', '147', 'BE', '6', '1900', '2018-09-23', '04:21:05', '2018-09-23 04:25:44.977666', 'POINT (4.282895 50.82037)', '11.0', 'BCR', 'Anderlecht', '2', '2018-09-23 05:03:14.521033']\n",
      "['2838289129_2018-09-23T04:21:05', '2838289129', '4.282895', '50.820370000000004', '2018-09-23 04:21:05.000000', '80', '147', 'BE', '6', '1900', '2018-09-23', '04:21:05', '2018-09-23 04:26:02.364966', 'POINT (4.282895 50.82037)', '11.0', 'BCR', 'Anderlecht', '2', '2018-09-23 05:03:14.521033']\n",
      "['2838289129_2018-09-23T04:21:05', '2838289129', '4.282895', '50.820370000000004', '2018-09-23 04:21:05.000000', '80', '147', 'BE', '6', '1900', '2018-09-23', '04:21:05', '2018-09-23 04:26:20.389655', 'POINT (4.282895 50.82037)', '11.0', 'BCR', 'Anderlecht', '2', '2018-09-23 05:03:14.521033']\n",
      "['2838289129_2018-09-23T04:21:05', '2838289129', '4.282895', '50.820370000000004', '2018-09-23 04:21:05.000000', '80', '147', 'BE', '6', '1900', '2018-09-23', '04:21:05', '2018-09-23 04:26:37.803258', 'POINT (4.282895 50.82037)', '11.0', 'BCR', 'Anderlecht', '2', '2018-09-23 05:03:14.521033']\n",
      "['2838289129_2018-09-23T04:21:05', '2838289129', '4.282895', '50.820370000000004', '2018-09-23 04:21:05.000000', '80', '147', 'BE', '6', '1900', '2018-09-23', '04:21:05', '2018-09-23 04:25:23.758194', 'POINT (4.282895 50.82037)', '11.0', 'BCR', 'Anderlecht', '2', '2018-09-23 05:03:14.521033']\n",
      "['2838289129_2018-09-23T04:21:05', '2838289129', '4.282895', '50.820370000000004', '2018-09-23 04:21:05.000000', '80', '147', 'BE', '6', '1900', '2018-09-23', '04:21:05', '2018-09-23 04:27:29.903438', 'POINT (4.282895 50.82037)', '11.0', 'BCR', 'Anderlecht', '2', '2018-09-23 05:03:14.521033']\n",
      "['2838289129_2018-09-23T04:21:05', '2838289129', '4.282895', '50.820370000000004', '2018-09-23 04:21:05.000000', '80', '147', 'BE', '6', '1900', '2018-09-23', '04:21:05', '2018-09-23 04:27:12.474347', 'POINT (4.282895 50.82037)', '11.0', 'BCR', 'Anderlecht', '2', '2018-09-23 05:03:14.521033']\n",
      "['2838289129_2018-09-23T04:20:35', '2838289129', '4.275744', '50.8208', '2018-09-23 04:20:35.000000', '64', '63', 'BE', '6', '1900', '2018-09-23', '04:20:35', '2018-09-23 04:26:55.228674', 'POINT (4.275744 50.8208)', '11.0', 'BCR', 'Anderlecht', '2', '2018-09-23 05:03:14.521033']\n",
      "['2838289129_2018-09-23T04:20:35', '2838289129', '4.275744', '50.8208', '2018-09-23 04:20:35.000000', '64', '63', 'BE', '6', '1900', '2018-09-23', '04:20:35', '2018-09-23 04:27:29.903438', 'POINT (4.275744 50.8208)', '11.0', 'BCR', 'Anderlecht', '2', '2018-09-23 05:03:14.521033']\n",
      "['2838289129_2018-09-23T04:20:35', '2838289129', '4.275744', '50.8208', '2018-09-23 04:20:35.000000', '64', '63', 'BE', '6', '1900', '2018-09-23', '04:20:35', '2018-09-23 04:25:23.758194', 'POINT (4.275744 50.8208)', '11.0', 'BCR', 'Anderlecht', '2', '2018-09-23 05:03:14.521033']\n",
      "['2838289129_2018-09-23T04:20:35', '2838289129', '4.275744', '50.8208', '2018-09-23 04:20:35.000000', '64', '63', 'BE', '6', '1900', '2018-09-23', '04:20:35', '2018-09-23 04:25:44.977666', 'POINT (4.275744 50.8208)', '11.0', 'BCR', 'Anderlecht', '2', '2018-09-23 05:03:14.521033']\n",
      "['2838289129_2018-09-23T04:20:35', '2838289129', '4.275744', '50.8208', '2018-09-23 04:20:35.000000', '64', '63', 'BE', '6', '1900', '2018-09-23', '04:20:35', '2018-09-23 04:27:12.474347', 'POINT (4.275744 50.8208)', '11.0', 'BCR', 'Anderlecht', '2', '2018-09-23 05:03:14.521033']\n",
      "['2838289129_2018-09-23T04:20:35', '2838289129', '4.275744', '50.8208', '2018-09-23 04:20:35.000000', '64', '63', 'BE', '6', '1900', '2018-09-23', '04:20:35', '2018-09-23 04:26:02.364966', 'POINT (4.275744 50.8208)', '11.0', 'BCR', 'Anderlecht', '2', '2018-09-23 05:03:14.521033']\n",
      "['2838289129_2018-09-23T04:20:35', '2838289129', '4.275744', '50.8208', '2018-09-23 04:20:35.000000', '64', '63', 'BE', '6', '1900', '2018-09-23', '04:20:35', '2018-09-23 04:26:20.389655', 'POINT (4.275744 50.8208)', '11.0', 'BCR', 'Anderlecht', '2', '2018-09-23 05:03:14.521033']\n",
      "['2838289129_2018-09-23T04:20:35', '2838289129', '4.275744', '50.8208', '2018-09-23 04:20:35.000000', '64', '63', 'BE', '6', '1900', '2018-09-23', '04:20:35', '2018-09-23 04:26:37.803258', 'POINT (4.275744 50.8208)', '11.0', 'BCR', 'Anderlecht', '2', '2018-09-23 05:03:14.521033']\n",
      "['167048733_2018-09-23T04:04:30', '167048733', '4.280001', '50.8271', '2018-09-23 04:04:30.000000', '90', '188', 'BE', '5', '1199', '2018-09-23', '04:04:30', '2018-09-23 04:10:14.058511', 'POINT (4.280001 50.8271)', '11.0', 'BCR', 'Anderlecht', '0', '2018-09-23 05:03:14.521033']\n",
      "['167048733_2018-09-23T04:04:30', '167048733', '4.280001', '50.8271', '2018-09-23 04:04:30.000000', '90', '188', 'BE', '5', '1199', '2018-09-23', '04:04:30', '2018-09-23 04:09:55.632588', 'POINT (4.280001 50.8271)', '11.0', 'BCR', 'Anderlecht', '0', '2018-09-23 05:03:14.521033']\n",
      "['167048733_2018-09-23T04:04:30', '167048733', '4.280001', '50.8271', '2018-09-23 04:04:30.000000', '90', '188', 'BE', '5', '1199', '2018-09-23', '04:04:30', '2018-09-23 04:09:38.248407', 'POINT (4.280001 50.8271)', '11.0', 'BCR', 'Anderlecht', '0', '2018-09-23 05:03:14.521033']\n",
      "['167048733_2018-09-23T04:04:30', '167048733', '4.280001', '50.8271', '2018-09-23 04:04:30.000000', '90', '188', 'BE', '5', '1199', '2018-09-23', '04:04:30', '2018-09-23 04:09:20.845778', 'POINT (4.280001 50.8271)', '11.0', 'BCR', 'Anderlecht', '0', '2018-09-23 05:03:14.521033']\n",
      "['167048733_2018-09-23T04:04:30', '167048733', '4.280001', '50.8271', '2018-09-23 04:04:30.000000', '90', '188', 'BE', '5', '1199', '2018-09-23', '04:04:30', '2018-09-23 04:09:03.513452', 'POINT (4.280001 50.8271)', '11.0', 'BCR', 'Anderlecht', '0', '2018-09-23 05:03:14.521033']\n",
      "['167048733_2018-09-23T04:04:30', '167048733', '4.280001', '50.8271', '2018-09-23 04:04:30.000000', '90', '188', 'BE', '5', '1199', '2018-09-23', '04:04:30', '2018-09-23 04:08:46.358717', 'POINT (4.280001 50.8271)', '11.0', 'BCR', 'Anderlecht', '0', '2018-09-23 05:03:14.521033']\n",
      "['167048733_2018-09-23T04:04:30', '167048733', '4.280001', '50.8271', '2018-09-23 04:04:30.000000', '90', '188', 'BE', '5', '1199', '2018-09-23', '04:04:30', '2018-09-23 04:08:28.930367', 'POINT (4.280001 50.8271)', '11.0', 'BCR', 'Anderlecht', '0', '2018-09-23 05:03:14.521033']\n",
      "['167048733_2018-09-23T04:04:30', '167048733', '4.280001', '50.8271', '2018-09-23 04:04:30.000000', '90', '188', 'BE', '5', '1199', '2018-09-23', '04:04:30', '2018-09-23 04:08:03.140902', 'POINT (4.280001 50.8271)', '11.0', 'BCR', 'Anderlecht', '0', '2018-09-23 05:03:14.521033']\n",
      "Time to send to Kafka: 0.03979682922363281\n",
      "Time for preprocessing and seding was: 0.10734987258911133; Waiting 9.892650127410889 seconds to be synchronized with the receving side\n"
     ]
    },
    {
     "ename": "KeyboardInterrupt",
     "evalue": "",
     "output_type": "error",
     "traceback": [
      "\u001b[0;31m---------------------------------------------------------------------------\u001b[0m",
      "\u001b[0;31mKeyboardInterrupt\u001b[0m                         Traceback (most recent call last)",
      "\u001b[0;32m<ipython-input-12-37656905cf11>\u001b[0m in \u001b[0;36m<module>\u001b[0;34m\u001b[0m\n\u001b[1;32m     93\u001b[0m     \u001b[0mprint\u001b[0m\u001b[0;34m(\u001b[0m\u001b[0;34m\"Time for preprocessing and seding was: \"\u001b[0m\u001b[0;34m+\u001b[0m\u001b[0mstr\u001b[0m\u001b[0;34m(\u001b[0m\u001b[0mtotal_time\u001b[0m\u001b[0;34m)\u001b[0m\u001b[0;34m+\u001b[0m\u001b[0;34m\"; Waiting \"\u001b[0m\u001b[0;34m+\u001b[0m\u001b[0mstr\u001b[0m\u001b[0;34m(\u001b[0m\u001b[0mbatch_interval\u001b[0m\u001b[0;34m-\u001b[0m\u001b[0mtotal_time\u001b[0m\u001b[0;34m)\u001b[0m\u001b[0;34m+\u001b[0m\u001b[0;34m\" seconds to be synchronized with the receving side\"\u001b[0m\u001b[0;34m)\u001b[0m\u001b[0;34m\u001b[0m\u001b[0;34m\u001b[0m\u001b[0m\n\u001b[1;32m     94\u001b[0m \u001b[0;34m\u001b[0m\u001b[0m\n\u001b[0;32m---> 95\u001b[0;31m     \u001b[0mtime\u001b[0m\u001b[0;34m.\u001b[0m\u001b[0msleep\u001b[0m\u001b[0;34m(\u001b[0m\u001b[0mbatch_interval\u001b[0m\u001b[0;34m)\u001b[0m\u001b[0;34m\u001b[0m\u001b[0;34m\u001b[0m\u001b[0m\n\u001b[0m",
      "\u001b[0;31mKeyboardInterrupt\u001b[0m: "
     ]
    }
   ],
   "source": [
    "batch_interval=10\n",
    "\n",
    "data_collection_frequency= 60\n",
    "print('Batch Interavl '+str(data_collection_frequency))\n",
    "\n",
    "retrieved_time_start=locations_df.retrieved_time.min()\n",
    "\n",
    "cpt=1\n",
    "\n",
    "delay_max = []\n",
    "retrieve = []\n",
    "number = []\n",
    "\n",
    "while cpt==1:\n",
    "    \n",
    "    #cpt=cpt +1\n",
    "    starttime=time.time()\n",
    "\n",
    "    data_chunck=locations_df[(locations_df.retrieved_time>=retrieved_time_start) &\\\n",
    "                          (locations_df.retrieved_time<(retrieved_time_start + timedelta(minutes = data_collection_frequency)))]\n",
    "    \n",
    "\n",
    "    print(\"\")\n",
    "    print(\"Received time: \"+str(retrieved_time_start))\n",
    "    print(\"Number of records: \"+str(data_chunck.shape[0]))\n",
    "    \n",
    "    \n",
    "    if data_chunck.shape[0]!=0:\n",
    "    \n",
    "        #Add street segments IDs\n",
    "        data_chunck['geometry'] = data_chunck.apply(lambda z: Point( z.longitude, z.latitude,), axis=1)\n",
    "        #data_chunck['geometry'] = data_chunck.apply(lambda z: Point(  z.latitude,z.longitude), axis=1)\n",
    "\n",
    "        PointsGeodataframe = gpd.GeoDataFrame(data_chunck)\n",
    "        PointsGeodataframe.crs = street_segments.crs\n",
    "        merged=sjoin(PointsGeodataframe, street_segments, how='left', op='within')\n",
    "        data_chunck=merged[merged.index_right>=0].reset_index(drop=True)\n",
    "    \n",
    "    print(data_chunck.shape)\n",
    "    \n",
    "    data_chunck['current_time']=pd.to_datetime([retrieved_time_start]* len(data_chunck))+timedelta(minutes = data_collection_frequency)\n",
    "    \n",
    "    \n",
    "    if data_chunck.shape[0] >1:\n",
    "        delay = []\n",
    "        for i in range(data_chunck.shape[0]):\n",
    "            retard = data_chunck.loc[i].retrieved_time - data_chunck.loc[i].datetime\n",
    "            retard_seconds = retard.total_seconds()\n",
    "            delay.append(retard_seconds)\n",
    "            \n",
    "        maxime = max(delay)\n",
    "        delay_max.append(maxime)\n",
    "        retrieve.append(retrieved_time_start.hour)\n",
    "        number.append(data_chunck.shape[0])\n",
    "        print('')\n",
    "        day = maxime // (24 * 3600)\n",
    "        maxime = maxime % (24 * 3600)\n",
    "        hour = maxime // 3600\n",
    "        maxime %= 3600\n",
    "        minutes = maxime // 60\n",
    "        maxime %= 60\n",
    "        seconds = maxime\n",
    "        print(\"Delay: %d day,  %d hour, %d minutes, %d seconds\" % (day, hour, minutes, seconds))\n",
    "        print('')\n",
    "    \n",
    "    data_chunck = data_chunck.astype(str)\n",
    "    \n",
    "    time_preprocess=time.time() - starttime\n",
    "    print(\"Time to preprocess: \"+str(time_preprocess))\n",
    "    \n",
    "    #********** Send to Kafka **********\n",
    "                \n",
    "    starttime_send_kafka=time.time()\n",
    "    \n",
    " \n",
    "    for i in range(data_chunck.shape[0]):\n",
    "\n",
    "        data=data_chunck.loc[i]\n",
    "        message=str(list(data))\n",
    "        print(message)\n",
    "        producer.send('dataViapass', message.encode())  \n",
    "    \n",
    "    producer.flush()\n",
    "    time_send_kafka=time.time() - starttime_send_kafka\n",
    "    \n",
    "    print(\"Time to send to Kafka: \"+str(time_send_kafka))\n",
    "                    \n",
    "    #********** End send to kafka **********\n",
    "    \n",
    "    retrieved_time_start=retrieved_time_start+timedelta(minutes = data_collection_frequency)\n",
    "    \n",
    "    total_time=time.time() - starttime\n",
    "    print(\"Time for preprocessing and seding was: \"+str(total_time)+\"; Waiting \"+str(batch_interval-total_time)+\" seconds to be synchronized with the receving side\")\n",
    "    \n",
    "    time.sleep(batch_interval)"
   ]
  },
  {
   "cell_type": "markdown",
   "metadata": {},
   "source": [
    "### Plot messages Delay per Batch Interval"
   ]
  },
  {
   "cell_type": "code",
   "execution_count": 9,
   "metadata": {},
   "outputs": [
    {
     "data": {
      "image/png": "[encoded data removed]",
      "text/plain": [
       "<Figure size 432x288 with 1 Axes>"
      ]
     },
     "metadata": {
      "needs_background": "light"
     },
     "output_type": "display_data"
    }
   ],
   "source": [
    "import matplotlib.pyplot as plt\n",
    "from matplotlib import pyplot\n",
    "\n",
    "HOURS = [i // 3600 for i in delay_max]\n",
    "DAYS = [i// (24 * 3600) for i in delay_max]\n",
    "\n",
    "#new = (pd.to_timedelta(delay_max, unit='d')+pd.to_timedelta(1,unit='s')).astype('timedelta64[m]')\n",
    "\n",
    "y_pos = np.arange(len(retrieve))\n",
    "plt.bar(retrieve , delay_max, align='center', alpha=0.5)\n",
    "#plt.bar(retrieve , HOURS, align='center', alpha=0.5)\n",
    "#plt.bar(retrieve , DAYS, align='center', alpha=0.5)\n",
    "plt.ylabel('OBU Delay (seconds)')\n",
    "plt.xlabel('Batch Interval (Hours)')\n",
    "plt.title('Delay per Batch Interval')\n",
    "plt.show()"
   ]
  },
  {
   "cell_type": "markdown",
   "metadata": {},
   "source": [
    "### Plot messages count per Batch Interval "
   ]
  },
  {
   "cell_type": "code",
   "execution_count": 10,
   "metadata": {},
   "outputs": [
    {
     "data": {
      "text/plain": [
       "Text(0.5, 1.0, 'OBU Count retrieved per Batch Interval')"
      ]
     },
     "execution_count": 10,
     "metadata": {},
     "output_type": "execute_result"
    },
    {
     "data": {
      "image/png": "[encoded data removed]",
      "text/plain": [
       "<Figure size 432x288 with 1 Axes>"
      ]
     },
     "metadata": {
      "needs_background": "light"
     },
     "output_type": "display_data"
    }
   ],
   "source": [
    "y_pos = np.arange(len(retrieve))\n",
    "plt.bar(retrieve, number, align='center', alpha=0.5)\n",
    "plt.ylabel('OBU Count retrieved')\n",
    "plt.xlabel('Batch Interval (Hours)')\n",
    "plt.title('OBU Count retrieved per Batch Interval')"
   ]
  },
  {
   "cell_type": "code",
   "execution_count": null,
   "metadata": {},
   "outputs": [],
   "source": []
  }
 ],
 "metadata": {
  "kernelspec": {
   "display_name": "Python 3",
   "language": "python",
   "name": "python3"
  },
  "language_info": {
   "codemirror_mode": {
    "name": "ipython",
    "version": 3
   },
   "file_extension": ".py",
   "mimetype": "text/x-python",
   "name": "python",
   "nbconvert_exporter": "python",
   "pygments_lexer": "ipython3",
   "version": "3.7.3"
  }
 },
 "nbformat": 4,
 "nbformat_minor": 2
}
